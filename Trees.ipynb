{
 "cells": [
  {
   "cell_type": "markdown",
   "metadata": {},
   "source": [
    "### 1. Implement Binary tree"
   ]
  },
  {
   "cell_type": "code",
   "execution_count": 1,
   "metadata": {},
   "outputs": [],
   "source": [
    "class Node:\n",
    "    def __init__(self, key):\n",
    "        self.left = None\n",
    "        self.right = None\n",
    "        self.val = key\n",
    "\n",
    "def insert(root, key):\n",
    "    if root is None:\n",
    "        return Node(key)\n",
    "    else:\n",
    "        if root.val < key:\n",
    "            root.right = insert(root.right, key)\n",
    "        else:\n",
    "            root.left = insert(root.left, key)\n",
    "    return root\n",
    "\n",
    "def get_height(root):\n",
    "    if root is None:\n",
    "        return 0\n",
    "    return 1 + max(get_height(root.left), get_height(root.right))\n",
    "\n",
    "def is_balanced(root):\n",
    "    if root is None:\n",
    "        return True\n",
    "\n",
    "    left_height = get_height(root.left)\n",
    "    right_height = get_height(root.right)\n",
    "\n",
    "    if abs(left_height - right_height) > 1:\n",
    "        return False\n",
    "\n",
    "    return is_balanced(root.left) and is_balanced(root.right)\n",
    "\n",
    "root = None\n",
    "keys = [3, 5, 2, 1, 4]\n",
    "\n",
    "for key in keys:\n",
    "    root = insert(root, key)"
   ]
  },
  {
   "cell_type": "markdown",
   "metadata": {},
   "source": [
    "### 2. Find height of a given tree"
   ]
  },
  {
   "cell_type": "code",
   "execution_count": 4,
   "metadata": {},
   "outputs": [],
   "source": [
    "class Node:\n",
    "    def __init__(self, key):\n",
    "        self.data = key\n",
    "        self.children = []\n",
    "\n",
    "def find_height(root):\n",
    "    if root is None:\n",
    "        return 0\n",
    "\n",
    "    height = 0\n",
    "    for child in root.children:\n",
    "        child_height = find_height(child)\n",
    "        if child_height > height:\n",
    "            height = child_height\n",
    "\n",
    "    return height + 1\n",
    "\n",
    "def construct_tree(edges):\n",
    "    root = None\n",
    "    nodes = {}\n",
    "\n",
    "    for edge in edges:\n",
    "        parent, child = edge\n",
    "\n",
    "        if parent not in nodes:\n",
    "            parent_node = Node(parent)\n",
    "            nodes[parent] = parent_node\n",
    "\n",
    "            if root is None:\n",
    "                root = parent_node\n",
    "\n",
    "        if child not in nodes:\n",
    "            child_node = Node(child)\n",
    "            nodes[child] = child_node\n",
    "\n",
    "        nodes[parent].children.append(nodes[child])\n",
    "\n",
    "    return root"
   ]
  },
  {
   "cell_type": "markdown",
   "metadata": {},
   "source": [
    "### 3. Perform Pre-order, Post-order, In-order traversal"
   ]
  },
  {
   "cell_type": "code",
   "execution_count": 8,
   "metadata": {},
   "outputs": [
    {
     "name": "stdout",
     "output_type": "stream",
     "text": [
      "Preorder Traversal: 1 2 4 5 3 \n",
      "Inorder Traversal: 4 2 5 1 3 \n",
      "Postorder Traversal: 4 5 2 3 1 \n"
     ]
    }
   ],
   "source": [
    "class Node:\n",
    "    def __init__(self, data):\n",
    "        self.data = data\n",
    "        self.left = None\n",
    "        self.right = None\n",
    "\n",
    "def preorder(root):\n",
    "  if root:\n",
    "    print(root.data, end=\" \")\n",
    "    preorder(root.left)\n",
    "    preorder(root.right)\n",
    "\n",
    "def inorder(root):\n",
    "  if root:\n",
    "    inorder(root.left)\n",
    "    print(root.data, end=\" \")\n",
    "    inorder(root.right)\n",
    "\n",
    "def postorder(root):\n",
    "  if root:\n",
    "    postorder(root.left)\n",
    "    postorder(root.right)\n",
    "    print(root.data, end=\" \")\n",
    "\n",
    "print(\"Preorder Traversal:\", end=\" \")\n",
    "preorder(root)\n",
    "print()\n",
    "print(\"Inorder Traversal:\", end=\" \")\n",
    "inorder(root)\n",
    "print()\n",
    "print(\"Postorder Traversal:\", end=\" \")\n",
    "postorder(root)\n",
    "print()"
   ]
  },
  {
   "cell_type": "markdown",
   "metadata": {},
   "source": [
    "### 4. Function to print all the leaves in a given binary tree"
   ]
  },
  {
   "cell_type": "code",
   "execution_count": 12,
   "metadata": {},
   "outputs": [
    {
     "name": "stdout",
     "output_type": "stream",
     "text": [
      "Leaves of the binary tree are:\n",
      "4 5 3 "
     ]
    }
   ],
   "source": [
    "class Node:\n",
    "    def __init__(self, data):\n",
    "        self.data = data\n",
    "        self.left = None\n",
    "        self.right = None\n",
    "\n",
    "def print_leaves(root):\n",
    "    if root is None:\n",
    "        return\n",
    "\n",
    "    if root.left is None and root.right is None:\n",
    "        print(root.data, end=\" \")\n",
    "\n",
    "    print_leaves(root.left)\n",
    "    print_leaves(root.right)\n",
    "\n",
    "print(\"Leaves of the binary tree are:\")\n",
    "print_leaves(root)"
   ]
  },
  {
   "cell_type": "markdown",
   "metadata": {},
   "source": [
    "### 5. Implement BFS (Breath First Search) and DFS (Depth First Search)"
   ]
  },
  {
   "cell_type": "code",
   "execution_count": 15,
   "metadata": {},
   "outputs": [
    {
     "name": "stdout",
     "output_type": "stream",
     "text": [
      "Leaves of the binary tree are:\n",
      "4 5 3 \n",
      "BFS traversal of the binary tree is:\n",
      "1 2 3 4 5 \n",
      "DFS traversal of the binary tree is:\n",
      "1 2 4 5 3 "
     ]
    }
   ],
   "source": [
    "class Node:\n",
    "    def __init__(self, data):\n",
    "        self.data = data\n",
    "        self.left = None\n",
    "        self.right = None\n",
    "\n",
    "def print_leaves(root):\n",
    "    if root is None:\n",
    "        return\n",
    "\n",
    "    if root.left is None and root.right is None:\n",
    "        print(root.data, end=\" \")\n",
    "\n",
    "    print_leaves(root.left)\n",
    "    print_leaves(root.right)\n",
    "\n",
    "def bfs(root):\n",
    "    if root is None:\n",
    "        return\n",
    "\n",
    "    queue = []\n",
    "    queue.append(root)\n",
    "\n",
    "    while queue:\n",
    "        current_node = queue.pop(0)\n",
    "        print(current_node.data, end=\" \")\n",
    "\n",
    "        if current_node.left:\n",
    "            queue.append(current_node.left)\n",
    "\n",
    "        if current_node.right:\n",
    "            queue.append(current_node.right)\n",
    "\n",
    "def dfs(root):\n",
    "    if root is None:\n",
    "        return\n",
    "\n",
    "    print(root.data, end=\" \")\n",
    "    dfs(root.left)\n",
    "    dfs(root.right)\n",
    "\n",
    "print(\"Leaves of the binary tree are:\")\n",
    "print_leaves(root)\n",
    "\n",
    "print(\"\\nBFS traversal of the binary tree is:\")\n",
    "bfs(root)\n",
    "\n",
    "print(\"\\nDFS traversal of the binary tree is:\")\n",
    "dfs(root)"
   ]
  },
  {
   "cell_type": "markdown",
   "metadata": {},
   "source": [
    "### 6. Find sum of all left leaves in a given Binary Tree"
   ]
  },
  {
   "cell_type": "code",
   "execution_count": 18,
   "metadata": {},
   "outputs": [],
   "source": [
    "class Node:\n",
    "    def __init__(self, data):\n",
    "        self.data = data\n",
    "        self.left = None\n",
    "        self.right = None\n",
    "\n",
    "def find_sum_of_left_leaves(root):\n",
    "    if root is None:\n",
    "        return 0\n",
    "\n",
    "    if root.left and not root.left.left and not root.left.right:\n",
    "        return root.left.data + find_sum_of_left_leaves(root.right)\n",
    "\n",
    "    return find_sum_of_left_leaves(root.left) + find_sum_of_left_leaves(root.right)"
   ]
  },
  {
   "cell_type": "markdown",
   "metadata": {},
   "source": [
    "### 7. Find sum of all nodes of the given perfect binary tree"
   ]
  },
  {
   "cell_type": "code",
   "execution_count": 19,
   "metadata": {},
   "outputs": [],
   "source": [
    "class Node:\n",
    "    def __init__(self, data):\n",
    "        self.data = data\n",
    "        self.left = None\n",
    "        self.right = None\n",
    "\n",
    "def find_sum_of_all_nodes(root):\n",
    "    if root is None:\n",
    "        return 0\n",
    "\n",
    "    return root.data + find_sum_of_all_nodes(root.left) + find_sum_of_all_nodes(root.right)"
   ]
  },
  {
   "cell_type": "markdown",
   "metadata": {},
   "source": [
    "### 8. Count subtress that sum up to a given value x in a binary tree"
   ]
  },
  {
   "cell_type": "code",
   "execution_count": 20,
   "metadata": {},
   "outputs": [],
   "source": [
    "class Node:\n",
    "    def __init__(self, data):\n",
    "        self.data = data\n",
    "        self.left = None\n",
    "        self.right = None\n",
    "\n",
    "def count_subtrees_with_sum_x(root, x):\n",
    "    if root is None:\n",
    "        return 0\n",
    "\n",
    "    return count_subtrees_with_sum_x(root.left, x) + count_subtrees_with_sum_x(root.right, x) + sum_root_to_leaf(root) == x\n",
    "\n",
    "def sum_root_to_leaf(root):\n",
    "    if root is None:\n",
    "        return 0\n",
    "\n",
    "    if root.left is None and root.right is None:\n",
    "        return root.data\n",
    "\n",
    "    return root.data + sum_root_to_leaf(root.left) + sum_root_to_leaf(root.right)"
   ]
  },
  {
   "cell_type": "markdown",
   "metadata": {},
   "source": [
    "### 9. Find maximum level sum in Binary Tree"
   ]
  },
  {
   "cell_type": "code",
   "execution_count": 21,
   "metadata": {},
   "outputs": [],
   "source": [
    "class Node:\n",
    "    def __init__(self, data):\n",
    "        self.data = data\n",
    "        self.left = None\n",
    "        self.right = None\n",
    "\n",
    "def find_maximum_level_sum(root):\n",
    "    if root is None:\n",
    "        return None\n",
    "\n",
    "    level_sum = [0] * 1000\n",
    "    level_count = [0] * 1000\n",
    "    max_level = -1\n",
    "    max_sum = float('-inf')\n",
    "\n",
    "    queue = [(root, 0)]\n",
    "\n",
    "    while queue:\n",
    "        node, level = queue.pop(0)\n",
    "\n",
    "        if node.left:\n",
    "            queue.append((node.left, level + 1))\n",
    "        if node.right:\n",
    "            queue.append((node.right, level + 1))\n",
    "\n",
    "        level_sum[level] += node.data\n",
    "        level_count[level] += 1\n",
    "\n",
    "    for level in range(len(level_sum)):\n",
    "        if level_count[level] > 0:\n",
    "            average_sum = level_sum[level] / level_count[level]\n",
    "            if average_sum > max_sum:\n",
    "                max_sum = average_sum\n",
    "                max_level = level\n",
    "\n",
    "    return max_sum, max_level"
   ]
  },
  {
   "cell_type": "markdown",
   "metadata": {},
   "source": [
    "### 10. Print the nodes at odd levels of a tree"
   ]
  },
  {
   "cell_type": "code",
   "execution_count": 22,
   "metadata": {},
   "outputs": [],
   "source": [
    "class Node:\n",
    "    def __init__(self, data):\n",
    "        self.data = data\n",
    "        self.left = None\n",
    "        self.right = None\n",
    "\n",
    "def print_odd_level_nodes(root):\n",
    "    if root is None:\n",
    "        return\n",
    "\n",
    "    queue = [(root, 0)]\n",
    "\n",
    "    while queue:\n",
    "        node, level = queue.pop(0)\n",
    "\n",
    "        if level % 2 != 0:\n",
    "            print(node.data, end=\" \")\n",
    "\n",
    "        if node.left:\n",
    "            queue.append((node.left, level + 1))\n",
    "        if node.right:\n",
    "            queue.append((node.right, level + 1))\n",
    "\n",
    "    print()"
   ]
  }
 ],
 "metadata": {
  "interpreter": {
   "hash": "aee8b7b246df8f9039afb4144a1f6fd8d2ca17a180786b69acc140d282b71a49"
  },
  "kernelspec": {
   "display_name": "Python 3.11.4 64-bit",
   "language": "python",
   "name": "python3"
  },
  "language_info": {
   "codemirror_mode": {
    "name": "ipython",
    "version": 3
   },
   "file_extension": ".py",
   "mimetype": "text/x-python",
   "name": "python",
   "nbconvert_exporter": "python",
   "pygments_lexer": "ipython3",
   "version": "3.11.4"
  },
  "orig_nbformat": 4
 },
 "nbformat": 4,
 "nbformat_minor": 2
}
